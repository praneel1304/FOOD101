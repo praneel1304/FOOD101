{
 "cells": [
  {
   "cell_type": "code",
   "execution_count": 58,
   "id": "8eb744b7-3cd5-47be-a5b2-bb61b57f6c59",
   "metadata": {},
   "outputs": [],
   "source": [
    "import pandas as pd\n",
    "import numpy as np\n",
    "\n",
    "a = pd.read_csv('IITK_Courses_Report.csv')\n",
    "\n",
    "cla = a.dropna(subset = ['Student Name','Course'])\n",
    "cla = cla.reset_index(drop = True)\n",
    "for i in range(1,len(cla)-1):\n",
    "    if pd.isnull(cla.loc[i, 'Marks (%)']):\n",
    "      x = np.sqrt(cla.loc[i-1,'Marks (%)'] * cla.loc[i+1,'Marks (%)'])\n",
    "      cla.loc[i, 'Marks (%)'] = x\n",
    "    if pd.isnull(cla.loc[i, 'Attendance (%)']):\n",
    "      x = np.sqrt(cla.loc[i-1,'Attendance (%)'] * cla.loc[i+1,'Attendance (%)'])\n",
    "      cla.loc[i, 'Attendance (%)'] = x    \n",
    "cla.to_csv('cleaned_IITK_Courses_Report.csv',index = False)        \n",
    "\n",
    "\n"
   ]
  },
  {
   "cell_type": "code",
   "execution_count": null,
   "id": "0417842d-3566-4814-a5bb-6b39badc64fb",
   "metadata": {},
   "outputs": [],
   "source": []
  },
  {
   "cell_type": "code",
   "execution_count": null,
   "id": "6f5e15f3-cc15-4e88-8841-25eaee9560b9",
   "metadata": {},
   "outputs": [],
   "source": []
  }
 ],
 "metadata": {
  "kernelspec": {
   "display_name": "Python (food101)",
   "language": "python",
   "name": "food101"
  },
  "language_info": {
   "codemirror_mode": {
    "name": "ipython",
    "version": 3
   },
   "file_extension": ".py",
   "mimetype": "text/x-python",
   "name": "python",
   "nbconvert_exporter": "python",
   "pygments_lexer": "ipython3",
   "version": "3.13.0"
  }
 },
 "nbformat": 4,
 "nbformat_minor": 5
}
