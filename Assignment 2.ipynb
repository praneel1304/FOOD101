{
 "cells": [
  {
   "cell_type": "code",
   "execution_count": 40,
   "id": "2773b8c6-aaf5-478a-804d-e3d05febb96b",
   "metadata": {},
   "outputs": [],
   "source": [
    "import numpy as np \n",
    "import pandas as pd\n",
    "\n",
    "import plotly.express as plt\n",
    "\n",
    "\n",
    "\n",
    "\n"
   ]
  },
  {
   "cell_type": "code",
   "execution_count": 78,
   "id": "e895d280-a27a-4465-a2c6-4a619b430421",
   "metadata": {},
   "outputs": [
    {
     "name": "stdout",
     "output_type": "stream",
     "text": [
      "[2 2 2 ... 2 0 2]\n"
     ]
    }
   ],
   "source": [
    "from sklearn.preprocessing import LabelEncoder,StandardScaler\n",
    "from sklearn.model_selection import train_test_split\n",
    "from sklearn.metrics import accuracy_score, precision_score,f1_score\n",
    "df = pd.read_csv('updated_pollution_dataset.csv')\n",
    "X = df.drop(columns=\"Air Quality\")\n",
    "s = StandardScaler()\n",
    "X = s.fit_transform(X)\n",
    "y = df[\"Air Quality\"]\n",
    "label_encoder = LabelEncoder()\n",
    "y= label_encoder.fit_transform(y)\n",
    "X_train, X_test, y_train, y_test = train_test_split(X, y, test_size=0.2, random_state=1)\n"
   ]
  },
  {
   "cell_type": "code",
   "execution_count": 70,
   "id": "c4845e55-2c08-4a57-a6e6-e64808afe0ec",
   "metadata": {},
   "outputs": [
    {
     "name": "stdout",
     "output_type": "stream",
     "text": [
      "Accuracy(%) for Linear regression model: 41.5\n",
      "Precision(%) for Linear regression model: 57.614992490726166\n",
      "F1_score is: 45.744223909410685\n"
     ]
    }
   ],
   "source": [
    "from sklearn.linear_model import LinearRegression\n",
    "LR = LinearRegression()\n",
    "LR.fit(X_train,y_train)\n",
    "y_pred = LR.predict(X_test).round()\n",
    "\n",
    "accuracy = accuracy_score(y_test, y_pred)\n",
    "f1 = f1_score(y_test, y_pred,average='weighted')\n",
    "precision = precision_score(y_test, y_pred,average='weighted')\n",
    "print(\"Accuracy(%) for Linear regression model:\", accuracy*100)\n",
    "print(\"Precision(%) for Linear regression model:\", precision*100)\n",
    "print(\"F1_score is:\",f1*100)"
   ]
  },
  {
   "cell_type": "code",
   "execution_count": 75,
   "id": "1362b787-8587-4ffe-8b8d-7a917fc1315a",
   "metadata": {},
   "outputs": [
    {
     "name": "stdout",
     "output_type": "stream",
     "text": [
      "Accuracy(%) for Logistic regression model: 94.1\n",
      "Precision(%) for Logistic regression model: 94.01230920633161\n",
      "F1_score is: 94.04424793990391\n"
     ]
    }
   ],
   "source": [
    "#logistic regression\n",
    "from sklearn.linear_model import LogisticRegression\n",
    "LR = LogisticRegression(max_iter = 100)\n",
    "LR.fit(X_train,y_train)\n",
    "y_pred = LR.predict(X_test)\n",
    "\n",
    "\n",
    "accuracy = accuracy_score(y_test, y_pred)\n",
    "f1 = f1_score(y_test, y_pred,average='weighted')\n",
    "precision = precision_score(y_test, y_pred,average='weighted')\n",
    "print(\"Accuracy(%) for Logistic regression model:\", accuracy*100)\n",
    "print(\"Precision(%) for Logistic regression model:\", precision*100)\n",
    "print(\"F1_score is:\",f1*100)\n",
    "\n"
   ]
  },
  {
   "cell_type": "code",
   "execution_count": 76,
   "id": "750cfefe-aefc-4ddb-8245-55d86f3714b4",
   "metadata": {},
   "outputs": [
    {
     "name": "stdout",
     "output_type": "stream",
     "text": [
      "Accuracy(%) for Decision Tree model: 92.60000000000001\n",
      "Precision(%) for Decision Tree model: 92.62456753138001\n",
      "F1_score is: 92.61133654703934\n"
     ]
    }
   ],
   "source": [
    "#decision tree\n",
    "from sklearn.tree import DecisionTreeClassifier\n",
    "dt = DecisionTreeClassifier(random_state=1, max_depth = 12)\n",
    "dt.fit(X_train,y_train)\n",
    "y_pred = dt.predict(X_test)\n",
    "train_accuracy = accuracy_score(y_train, dt.predict(X_train))\n",
    "\n",
    "\n",
    "\n",
    "accuracy = accuracy_score(y_test, y_pred)\n",
    "f1 = f1_score(y_test, y_pred,average='weighted')\n",
    "\n",
    "precision = precision_score(y_test, y_pred,average='weighted')\n",
    "print(\"Accuracy(%) for Decision Tree model:\", accuracy*100)\n",
    "print(\"Precision(%) for Decision Tree model:\", precision*100)\n",
    "print(\"F1_score is:\",f1*100)"
   ]
  },
  {
   "cell_type": "code",
   "execution_count": 74,
   "id": "a7db8359-7b9c-4b6c-a738-965c198c4ccd",
   "metadata": {},
   "outputs": [
    {
     "name": "stdout",
     "output_type": "stream",
     "text": [
      "Accuracy(%) for Random forest model: 95.1\n",
      "Precision(%) for Random forest model: 95.07017047368775\n",
      "F1_score is: 95.06948339954563\n"
     ]
    }
   ],
   "source": [
    "#random forest\n",
    "from sklearn.ensemble import RandomForestClassifier\n",
    "rf =  RandomForestClassifier(random_state=1, n_estimators = 60)\n",
    "rf.fit(X_train,y_train)\n",
    "y_pred = rf.predict(X_test)\n",
    "f1 = f1_score(y_test, y_pred,average='weighted')\n",
    "accuracy = accuracy_score(y_test, y_pred)\n",
    "precision = precision_score(y_test, y_pred,average='weighted')\n",
    "print(\"Accuracy(%) for Random forest model:\", accuracy*100)\n",
    "print(\"Precision(%) for Random forest model:\", precision*100)\n",
    "print(\"F1_score is:\",f1*100)"
   ]
  },
  {
   "cell_type": "code",
   "execution_count": null,
   "id": "9979eedc-b4e7-44f4-8ff5-6be09d57a94c",
   "metadata": {},
   "outputs": [],
   "source": []
  }
 ],
 "metadata": {
  "kernelspec": {
   "display_name": "Python (food101)",
   "language": "python",
   "name": "food101"
  },
  "language_info": {
   "codemirror_mode": {
    "name": "ipython",
    "version": 3
   },
   "file_extension": ".py",
   "mimetype": "text/x-python",
   "name": "python",
   "nbconvert_exporter": "python",
   "pygments_lexer": "ipython3",
   "version": "3.13.0"
  }
 },
 "nbformat": 4,
 "nbformat_minor": 5
}
