{
 "cells": [
  {
   "cell_type": "code",
   "execution_count": 66,
   "id": "5e6e0bfc-af12-46ab-a26f-845a68c581dc",
   "metadata": {},
   "outputs": [],
   "source": [
    "import pandas as pd\n",
    "import numpy as np\n",
    "import matplotlib.pyplot as plt\n"
   ]
  },
  {
   "cell_type": "code",
   "execution_count": 67,
   "id": "0741512c-4bca-441f-a118-178276117fed",
   "metadata": {},
   "outputs": [],
   "source": [
    "df = pd.read_csv('california_housing_train.csv')\n",
    "y_T = np.array(df['median_house_value'])\n",
    "arr = np.array(df.drop('median_house_value', axis=1)).T\n",
    "\n",
    "for i in range(len(arr)):\n",
    "  arr[i] = (arr[i]-np.mean(arr[i]))/np.std(arr[i], axis=0)\n",
    "\n",
    "x_T = arr.T\n",
    "\n"
   ]
  },
  {
   "cell_type": "code",
   "execution_count": 68,
   "id": "04d9c65e-2048-437a-b6ae-5085035c639d",
   "metadata": {},
   "outputs": [],
   "source": [
    "def loss(y_pred, y_true):\n",
    "    n = len(y_pred)\n",
    "    mse = (1/n) * np.sum((y_true - y_pred)**2)\n",
    "    return mse\n"
   ]
  },
  {
   "cell_type": "code",
   "execution_count": 69,
   "id": "b8d7a02e-9996-4e74-9b8c-5a0443141ae2",
   "metadata": {},
   "outputs": [],
   "source": [
    "def y_prediction(x,a,b):\n",
    "      y_pred =np.dot( x,a) + b\n",
    "      m,n = x.shape\n",
    "      assert(y_pred.shape == (m,))\n",
    "      return y_pred"
   ]
  },
  {
   "cell_type": "code",
   "execution_count": 70,
   "id": "3e269566-a3f5-4a96-b482-977b0d4432b1",
   "metadata": {},
   "outputs": [],
   "source": [
    "def gradient(x,a,b,y_true):\n",
    "  \n",
    "  m,n = x.shape\n",
    "  yp = y_prediction(x,a,b)\n",
    "    \n",
    "  da = (2/m)* np.dot(x.T, (yp - y_true))\n",
    "  db =  (2/m)*np.sum(yp - y_true)\n",
    "\n",
    "\n",
    "\n",
    "  assert(da.shape ==(n,))\n",
    "  return (da,db)"
   ]
  },
  {
   "cell_type": "code",
   "execution_count": 71,
   "id": "bb35e108-2533-4efd-9dee-ef86ed483791",
   "metadata": {},
   "outputs": [],
   "source": [
    "def gradient_descent(x,y_true,learning_rate=0.01,epochs=10):\n",
    "\n",
    "  m,n = x.shape\n",
    "  loss_mse = []                                 \n",
    "  a = np.random.normal(0, 0.5, size = (n,)) * np.sqrt(2/n)     \n",
    "  b = 0\n",
    "\n",
    "  for i in range(epochs):\n",
    "    da, db = gradient(x, a, b, y_true)   \n",
    "    a = a- da*learning_rate\n",
    "    b = b - db*learning_rate\n",
    "    y_pred = y_prediction(x, a, b)\n",
    "    l_mse = loss(y_pred, y_true)\n",
    "    loss_mse.append(l_mse)\n",
    "    print(\"Epoch \",i+1,\" Completed!\",\"loss = \",l_mse) \n",
    "\n",
    "\n",
    "  print(\"Training completed!!\")\n",
    "\n",
    "  assert(a.shape==(n,))\n",
    "\n",
    "  return (loss_mse,a,b)"
   ]
  },
  {
   "cell_type": "code",
   "execution_count": 84,
   "id": "0f66f161-0771-4532-bbce-ed7fbc27f66f",
   "metadata": {},
   "outputs": [
    {
     "name": "stdout",
     "output_type": "stream",
     "text": [
      "Epoch  1  Completed! loss =  48717710839.9712\n",
      "Epoch  2  Completed! loss =  42199969039.046684\n",
      "Epoch  3  Completed! loss =  36683956707.63273\n",
      "Epoch  4  Completed! loss =  32013299191.963955\n",
      "Epoch  5  Completed! loss =  28056957025.248486\n",
      "Epoch  6  Completed! loss =  24704668313.616558\n",
      "Epoch  7  Completed! loss =  21863433652.8188\n",
      "Epoch  8  Completed! loss =  19454705094.297245\n",
      "Epoch  9  Completed! loss =  17412086193.89076\n",
      "Epoch  10  Completed! loss =  15679424128.782852\n",
      "Epoch  11  Completed! loss =  14209214187.810492\n",
      "Epoch  12  Completed! loss =  12961259202.140226\n",
      "Epoch  13  Completed! loss =  11901540101.42924\n",
      "Epoch  14  Completed! loss =  11001262823.753218\n",
      "Epoch  15  Completed! loss =  10236053276.972624\n",
      "Epoch  16  Completed! loss =  9585276956.377445\n",
      "Epoch  17  Completed! loss =  9031463701.647142\n",
      "Epoch  18  Completed! loss =  8559821223.650581\n",
      "Epoch  19  Completed! loss =  8157823628.113478\n",
      "Epoch  20  Completed! loss =  7814863326.145726\n",
      "Epoch  21  Completed! loss =  7521956533.840871\n",
      "Epoch  22  Completed! loss =  7271494086.684164\n",
      "Epoch  23  Completed! loss =  7057030577.930736\n",
      "Epoch  24  Completed! loss =  6873105912.621933\n",
      "Epoch  25  Completed! loss =  6715094282.664011\n",
      "Epoch  26  Completed! loss =  6579076340.1024885\n",
      "Epoch  27  Completed! loss =  6461730997.701084\n",
      "Epoch  28  Completed! loss =  6360243836.896341\n",
      "Epoch  29  Completed! loss =  6272229568.890901\n",
      "Epoch  30  Completed! loss =  6195666388.330091\n",
      "Epoch  31  Completed! loss =  6128840391.857705\n",
      "Epoch  32  Completed! loss =  6070298515.2992735\n",
      "Epoch  33  Completed! loss =  6018808681.236476\n",
      "Epoch  34  Completed! loss =  5973326050.036635\n",
      "Epoch  35  Completed! loss =  5932964437.664517\n",
      "Epoch  36  Completed! loss =  5896972107.626559\n",
      "Epoch  37  Completed! loss =  5864711266.233157\n",
      "Epoch  38  Completed! loss =  5835640693.438123\n",
      "Epoch  39  Completed! loss =  5809301028.72074\n",
      "Epoch  40  Completed! loss =  5785302305.26256\n",
      "Epoch  41  Completed! loss =  5763313388.10689\n",
      "Epoch  42  Completed! loss =  5743053024.823355\n",
      "Epoch  43  Completed! loss =  5724282261.912006\n",
      "Epoch  44  Completed! loss =  5706798018.022146\n",
      "Epoch  45  Completed! loss =  5690427637.088212\n",
      "Epoch  46  Completed! loss =  5675024271.593336\n",
      "Epoch  47  Completed! loss =  5660462969.1174965\n",
      "Epoch  48  Completed! loss =  5646637354.751424\n",
      "Epoch  49  Completed! loss =  5633456818.401488\n",
      "Epoch  50  Completed! loss =  5620844129.932324\n",
      "Epoch  51  Completed! loss =  5608733416.8809595\n",
      "Epoch  52  Completed! loss =  5597068449.456375\n",
      "Epoch  53  Completed! loss =  5585801185.989272\n",
      "Epoch  54  Completed! loss =  5574890539.153142\n",
      "Epoch  55  Completed! loss =  5564301329.338209\n",
      "Epoch  56  Completed! loss =  5554003396.692573\n",
      "Epoch  57  Completed! loss =  5543970847.692163\n",
      "Epoch  58  Completed! loss =  5534181415.78349\n",
      "Epoch  59  Completed! loss =  5524615918.762377\n",
      "Epoch  60  Completed! loss =  5515257798.194342\n",
      "Epoch  61  Completed! loss =  5506092728.420991\n",
      "Epoch  62  Completed! loss =  5497108284.593565\n",
      "Epoch  63  Completed! loss =  5488293660.781958\n",
      "Epoch  64  Completed! loss =  5479639430.569421\n",
      "Epoch  65  Completed! loss =  5471137343.697314\n",
      "Epoch  66  Completed! loss =  5462780153.302441\n",
      "Epoch  67  Completed! loss =  5454561469.118511\n",
      "Epoch  68  Completed! loss =  5446475632.716115\n",
      "Epoch  69  Completed! loss =  5438517611.451237\n",
      "Epoch  70  Completed! loss =  5430682908.2974415\n",
      "Epoch  71  Completed! loss =  5422967485.165096\n",
      "Epoch  72  Completed! loss =  5415367697.674047\n",
      "Epoch  73  Completed! loss =  5407880239.654078\n",
      "Epoch  74  Completed! loss =  5400502095.908683\n",
      "Epoch  75  Completed! loss =  5393230501.999055\n",
      "Epoch  76  Completed! loss =  5386062909.993149\n",
      "Epoch  77  Completed! loss =  5378996959.284017\n",
      "Epoch  78  Completed! loss =  5372030451.716817\n",
      "Epoch  79  Completed! loss =  5365161330.378653\n",
      "Epoch  80  Completed! loss =  5358387661.502732\n",
      "Epoch  81  Completed! loss =  5351707619.02095\n",
      "Epoch  82  Completed! loss =  5345119471.369159\n",
      "Epoch  83  Completed! loss =  5338621570.208865\n",
      "Epoch  84  Completed! loss =  5332212340.779685\n",
      "Epoch  85  Completed! loss =  5325890273.639738\n",
      "Epoch  86  Completed! loss =  5319653917.587624\n",
      "Epoch  87  Completed! loss =  5313501873.59056\n",
      "Epoch  88  Completed! loss =  5307432789.5695505\n",
      "Epoch  89  Completed! loss =  5301445355.914737\n",
      "Epoch  90  Completed! loss =  5295538301.623091\n",
      "Epoch  91  Completed! loss =  5289710390.966701\n",
      "Epoch  92  Completed! loss =  5283960420.613598\n",
      "Epoch  93  Completed! loss =  5278287217.134708\n",
      "Epoch  94  Completed! loss =  5272689634.840402\n",
      "Epoch  95  Completed! loss =  5267166553.898521\n",
      "Epoch  96  Completed! loss =  5261716878.692947\n",
      "Epoch  97  Completed! loss =  5256339536.387781\n",
      "Epoch  98  Completed! loss =  5251033475.667463\n",
      "Epoch  99  Completed! loss =  5245797665.627483\n",
      "Epoch  100  Completed! loss =  5240631094.794149\n",
      "Training completed!!\n"
     ]
    }
   ],
   "source": [
    "epochs = 100\n",
    "learn_rate = 0.04\n",
    "train_loss,a,b = gradient_descent(x_T, y_T, learn_rate, epochs)\n"
   ]
  },
  {
   "cell_type": "code",
   "execution_count": 85,
   "id": "a60c548c-c702-4f62-bfa7-bc95db0991c7",
   "metadata": {},
   "outputs": [
    {
     "name": "stdout",
     "output_type": "stream",
     "text": [
      "Loss on test data =  5249946381.232872\n"
     ]
    },
    {
     "data": {
      "image/png": "[encoded data removed]",
      "text/plain": [
       "<Figure size 640x480 with 1 Axes>"
      ]
     },
     "metadata": {},
     "output_type": "display_data"
    }
   ],
   "source": [
    "test_df = pd.read_csv(\"california_housing_test.csv\")\n",
    "\n",
    "arr = np.array(test_df.drop('median_house_value', axis=1)).T\n",
    "\n",
    "for i in range(len(arr)):\n",
    "  arr[i] = (arr[i]-np.mean(arr[i]))/np.std(arr[i], axis=0)\n",
    "\n",
    "y_test = np.array(test_df['median_house_value'])                                                                                                            # extract the price column from data\n",
    "\n",
    "x_test = arr.T\n",
    "y_pred_test = y_prediction(x_test, a, b)\n",
    "test_loss = loss(y_pred_test, y_test)\n",
    "\n",
    "print(\"Loss on test data = \",test_loss)\n",
    "plt.plot([i for i in range(epochs)], train_loss)\n",
    "plt.title(\"Training Loss\")\n",
    "plt.xlabel(\"Epochs\")\n",
    "plt.ylabel(\"Loss\")\n",
    "plt.show()\n",
    "\n",
    "\n"
   ]
  },
  {
   "cell_type": "code",
   "execution_count": null,
   "id": "bf8c8d95-df0e-4e66-9643-1afc158c7f9c",
   "metadata": {},
   "outputs": [],
   "source": []
  }
 ],
 "metadata": {
  "kernelspec": {
   "display_name": "Python (food101)",
   "language": "python",
   "name": "food101"
  },
  "language_info": {
   "codemirror_mode": {
    "name": "ipython",
    "version": 3
   },
   "file_extension": ".py",
   "mimetype": "text/x-python",
   "name": "python",
   "nbconvert_exporter": "python",
   "pygments_lexer": "ipython3",
   "version": "3.13.0"
  }
 },
 "nbformat": 4,
 "nbformat_minor": 5
}
